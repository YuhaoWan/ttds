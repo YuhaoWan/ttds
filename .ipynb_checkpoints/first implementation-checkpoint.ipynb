{
 "cells": [
  {
   "cell_type": "code",
   "execution_count": 17,
   "id": "talented-wiring",
   "metadata": {},
   "outputs": [],
   "source": [
    "import numpy as np\n",
    "import pandas as pd\n",
    "import os"
   ]
  },
  {
   "cell_type": "code",
   "execution_count": 18,
   "id": "unlike-shark",
   "metadata": {},
   "outputs": [
    {
     "name": "stdout",
     "output_type": "stream",
     "text": [
      "./app\\.DS_Store\n",
      "./app\\search.py\n",
      "./app\\__init__.py\n",
      "./app\\csv\\ArianaGrande.csv\n",
      "./app\\csv\\Beyonce.csv\n",
      "./app\\csv\\BillieEilish.csv\n",
      "./app\\csv\\BTS.csv\n",
      "./app\\csv\\CardiB.csv\n",
      "./app\\csv\\CharliePuth.csv\n",
      "./app\\csv\\ColdPlay.csv\n",
      "./app\\csv\\Drake.csv\n",
      "./app\\csv\\DuaLipa.csv\n",
      "./app\\csv\\EdSheeran.csv\n",
      "./app\\csv\\Eminem.csv\n",
      "./app\\csv\\JustinBieber.csv\n",
      "./app\\csv\\KatyPerry.csv\n",
      "./app\\csv\\Khalid.csv\n",
      "./app\\csv\\LadyGaga.csv\n",
      "./app\\csv\\Maroon5.csv\n",
      "./app\\csv\\NickiMinaj.csv\n",
      "./app\\csv\\PostMalone.csv\n",
      "./app\\csv\\Rihanna.csv\n",
      "./app\\csv\\SelenaGomez.csv\n",
      "./app\\csv\\TaylorSwift.csv\n",
      "./app\\json files\\Lyrics_ArianaGrande.json\n",
      "./app\\json files\\Lyrics_Beyonc.json\n",
      "./app\\json files\\Lyrics_BillieEilish.json\n",
      "./app\\json files\\Lyrics_BTS.json\n",
      "./app\\json files\\Lyrics_CardiB.json\n",
      "./app\\json files\\Lyrics_CharliePuth.json\n",
      "./app\\json files\\Lyrics_Coldplay.json\n",
      "./app\\json files\\Lyrics_Drake.json\n",
      "./app\\json files\\Lyrics_DuaLipa.json\n",
      "./app\\json files\\Lyrics_EdSheeran.json\n",
      "./app\\json files\\Lyrics_Eminem.json\n",
      "./app\\json files\\Lyrics_JustinBieber.json\n",
      "./app\\json files\\Lyrics_KatyPerry.json\n",
      "./app\\json files\\Lyrics_Khalid.json\n",
      "./app\\json files\\Lyrics_LadyGaga.json\n",
      "./app\\json files\\Lyrics_Maroon5.json\n",
      "./app\\json files\\Lyrics_NickiMinaj.json\n",
      "./app\\json files\\Lyrics_PostMalone.json\n",
      "./app\\json files\\Lyrics_Rihanna.json\n",
      "./app\\json files\\Lyrics_SelenaGomez.json\n",
      "./app\\json files\\Lyrics_TaylorSwift.json\n",
      "./app\\static\\.DS_Store\n",
      "./app\\static\\style.css\n",
      "./app\\templates\\.DS_Store\n",
      "./app\\templates\\search.html\n",
      "./app\\__pycache__\\search.cpython-37.pyc\n",
      "./app\\__pycache__\\search.cpython-39.pyc\n",
      "./app\\__pycache__\\__init__.cpython-37.pyc\n",
      "./app\\__pycache__\\__init__.cpython-39.pyc\n"
     ]
    }
   ],
   "source": [
    "for dirname, _, filenames in os.walk('./app'):\n",
    "    for filename in filenames:\n",
    "        print(os.path.join(dirname, filename))"
   ]
  },
  {
   "cell_type": "code",
   "execution_count": 21,
   "id": "legitimate-plaintiff",
   "metadata": {},
   "outputs": [],
   "source": [
    "from word_cloud.word_cloud_generator import WordCloud\n",
    "from IPython.core.display import HTML"
   ]
  },
  {
   "cell_type": "code",
   "execution_count": 24,
   "id": "incoming-expense",
   "metadata": {},
   "outputs": [
    {
     "data": {
      "text/html": [
       "<div>\n",
       "<style scoped>\n",
       "    .dataframe tbody tr th:only-of-type {\n",
       "        vertical-align: middle;\n",
       "    }\n",
       "\n",
       "    .dataframe tbody tr th {\n",
       "        vertical-align: top;\n",
       "    }\n",
       "\n",
       "    .dataframe thead th {\n",
       "        text-align: right;\n",
       "    }\n",
       "</style>\n",
       "<table border=\"1\" class=\"dataframe\">\n",
       "  <thead>\n",
       "    <tr style=\"text-align: right;\">\n",
       "      <th></th>\n",
       "      <th>Unnamed: 0</th>\n",
       "      <th>Artist</th>\n",
       "      <th>Title</th>\n",
       "      <th>Album</th>\n",
       "      <th>Year</th>\n",
       "      <th>Date</th>\n",
       "      <th>Lyric</th>\n",
       "    </tr>\n",
       "  </thead>\n",
       "  <tbody>\n",
       "    <tr>\n",
       "      <th>0</th>\n",
       "      <td>0</td>\n",
       "      <td>Ed Sheeran</td>\n",
       "      <td>Shape of You</td>\n",
       "      <td>÷ (Divide)</td>\n",
       "      <td>2017.0</td>\n",
       "      <td>2017-01-06</td>\n",
       "      <td>the club isn't the best place to find a lover ...</td>\n",
       "    </tr>\n",
       "    <tr>\n",
       "      <th>1</th>\n",
       "      <td>1</td>\n",
       "      <td>Ed Sheeran</td>\n",
       "      <td>Perfect</td>\n",
       "      <td>÷ (Divide)</td>\n",
       "      <td>2017.0</td>\n",
       "      <td>2017-03-03</td>\n",
       "      <td>i found a love for me oh darling just dive rig...</td>\n",
       "    </tr>\n",
       "    <tr>\n",
       "      <th>2</th>\n",
       "      <td>2</td>\n",
       "      <td>Ed Sheeran</td>\n",
       "      <td>Castle on the Hill</td>\n",
       "      <td>÷ (Divide)</td>\n",
       "      <td>2017.0</td>\n",
       "      <td>2017-01-06</td>\n",
       "      <td>when i was six years old i broke my leg i was ...</td>\n",
       "    </tr>\n",
       "    <tr>\n",
       "      <th>3</th>\n",
       "      <td>3</td>\n",
       "      <td>Ed Sheeran</td>\n",
       "      <td>Happier</td>\n",
       "      <td>÷ (Divide)</td>\n",
       "      <td>2017.0</td>\n",
       "      <td>2017-03-03</td>\n",
       "      <td>walking down 9th and park i saw you in another...</td>\n",
       "    </tr>\n",
       "    <tr>\n",
       "      <th>4</th>\n",
       "      <td>4</td>\n",
       "      <td>Ed Sheeran</td>\n",
       "      <td>Supermarket Flowers</td>\n",
       "      <td>÷ (Divide)</td>\n",
       "      <td>2017.0</td>\n",
       "      <td>2017-03-03</td>\n",
       "      <td>i took the supermarket flowers from the window...</td>\n",
       "    </tr>\n",
       "  </tbody>\n",
       "</table>\n",
       "</div>"
      ],
      "text/plain": [
       "   Unnamed: 0      Artist                Title       Album    Year  \\\n",
       "0           0  Ed Sheeran         Shape of You  ÷ (Divide)  2017.0   \n",
       "1           1  Ed Sheeran              Perfect  ÷ (Divide)  2017.0   \n",
       "2           2  Ed Sheeran   Castle on the Hill  ÷ (Divide)  2017.0   \n",
       "3           3  Ed Sheeran              Happier  ÷ (Divide)  2017.0   \n",
       "4           4  Ed Sheeran  Supermarket Flowers  ÷ (Divide)  2017.0   \n",
       "\n",
       "         Date                                              Lyric  \n",
       "0  2017-01-06  the club isn't the best place to find a lover ...  \n",
       "1  2017-03-03  i found a love for me oh darling just dive rig...  \n",
       "2  2017-01-06  when i was six years old i broke my leg i was ...  \n",
       "3  2017-03-03  walking down 9th and park i saw you in another...  \n",
       "4  2017-03-03  i took the supermarket flowers from the window...  "
      ]
     },
     "execution_count": 24,
     "metadata": {},
     "output_type": "execute_result"
    }
   ],
   "source": [
    "songs = \"./app/csv/EdSheeran.csv\"\n",
    "df = pd.read_csv(songs,index_col=False)\n",
    "df.reset_index(drop=True, inplace=False)\n",
    "df.head()"
   ]
  },
  {
   "cell_type": "code",
   "execution_count": 26,
   "id": "continuing-container",
   "metadata": {},
   "outputs": [],
   "source": [
    "all_lyrics = []\n",
    "lyrics = df[\"Lyric\"]\n",
    "for lyric in lyrics:\n",
    "    all_lyrics.append(str(lyric))"
   ]
  },
  {
   "cell_type": "code",
   "execution_count": 27,
   "id": "organizational-georgia",
   "metadata": {},
   "outputs": [
    {
     "data": {
      "text/html": [
       "<div align='center' style='width:100%'><div align='center' style='text-align:justify; border-radius: 25px;background: #fff7f7;overflow: auto; width:500px !important; padding:20px; '; text-align: center; word-wrap: break-word;> <span style='color:#B18904;font-size:1.1em;white-space: normal;font-family:verdana;display: inline-block;line-height:30px'>know&nbsp;</span> <span style='color:#b82c2c;font-size:1.25em;white-space: normal;font-family:verdana;display: inline-block;line-height:30px'>your&nbsp;</span> <span style='color:#00b4ff;font-size:1.4em;white-space: normal;font-family:verdana;display: inline-block;line-height:30px'>on&nbsp;</span> <span style='color:#008080;font-size:0.9500000000000001em;white-space: normal;font-family:verdana;display: inline-block;line-height:30px'>come&nbsp;</span> <span style='color:#B18904;font-size:1.1em;white-space: normal;font-family:verdana;display: inline-block;line-height:30px'>for&nbsp;</span> <span style='color:#008080;font-size:0.9500000000000001em;white-space: normal;font-family:verdana;display: inline-block;line-height:30px'>never&nbsp;</span> <span style='color:#00b4ff;font-size:1.4em;white-space: normal;font-family:verdana;display: inline-block;line-height:30px'>that&nbsp;</span> <span style='color:#008080;font-size:0.9500000000000001em;white-space: normal;font-family:verdana;display: inline-block;line-height:30px'>are&nbsp;</span> <span style='color:#CE22E6;font-size:1.6999999999999997em;white-space: normal;font-family:verdana;display: inline-block;line-height:30px'>it&nbsp;</span> <span style='color:#008080;font-size:0.9500000000000001em;white-space: normal;font-family:verdana;display: inline-block;line-height:30px'>this&nbsp;</span> <span style='color:#B18904;font-size:1.1em;white-space: normal;font-family:verdana;display: inline-block;line-height:30px'>need&nbsp;</span> <span style='color:#003366;font-size:1.8499999999999996em;white-space: normal;font-family:verdana;display: inline-block;line-height:30px'>in&nbsp;</span> <span style='color:#008080;font-size:0.9500000000000001em;white-space: normal;font-family:verdana;display: inline-block;line-height:30px'>just&nbsp;</span> <span style='color:#FF0080;font-size:2.1499999999999995em;white-space: normal;font-family:verdana;display: inline-block;line-height:30px'>to&nbsp;</span> <span style='color:#B18904;font-size:1.1em;white-space: normal;font-family:verdana;display: inline-block;line-height:30px'>but&nbsp;</span> <span style='color:#008080;font-size:0.9500000000000001em;white-space: normal;font-family:verdana;display: inline-block;line-height:30px'>re&nbsp;</span> <span style='color:#008080;font-size:0.9500000000000001em;white-space: normal;font-family:verdana;display: inline-block;line-height:30px'>so&nbsp;</span> <span style='color:#008080;font-size:0.9500000000000001em;white-space: normal;font-family:verdana;display: inline-block;line-height:30px'>oh&nbsp;</span> <span style='color:#008080;font-size:0.9500000000000001em;white-space: normal;font-family:verdana;display: inline-block;line-height:30px'>ll&nbsp;</span> <span style='color:#008080;font-size:0.9500000000000001em;white-space: normal;font-family:verdana;display: inline-block;line-height:30px'>if&nbsp;</span> <span style='color:#008080;font-size:0.9500000000000001em;white-space: normal;font-family:verdana;display: inline-block;line-height:30px'>man&nbsp;</span> <span style='color:#008080;font-size:0.9500000000000001em;white-space: normal;font-family:verdana;display: inline-block;line-height:30px'>out&nbsp;</span> <span style='color:#008080;font-size:0.9500000000000001em;white-space: normal;font-family:verdana;display: inline-block;line-height:30px'>is&nbsp;</span> <span style='color:#0489B1;font-size:2.599999999999999em;white-space: normal;font-family:verdana;display: inline-block;line-height:30px'>and&nbsp;</span> <span style='color:#725394;font-size:3.199999999999999em;white-space: normal;font-family:verdana;display: inline-block;line-height:30px'>the&nbsp;</span> <span style='color:#B18904;font-size:1.1em;white-space: normal;font-family:verdana;display: inline-block;line-height:30px'>like&nbsp;</span> <span style='color:#008080;font-size:0.9500000000000001em;white-space: normal;font-family:verdana;display: inline-block;line-height:30px'>can&nbsp;</span> <span style='color:#b82c2c;font-size:1.25em;white-space: normal;font-family:verdana;display: inline-block;line-height:30px'>be&nbsp;</span> <span style='color:#008080;font-size:0.9500000000000001em;white-space: normal;font-family:verdana;display: inline-block;line-height:30px'>when&nbsp;</span> <span style='color:#00b4ff;font-size:1.4em;white-space: normal;font-family:verdana;display: inline-block;line-height:30px'>we&nbsp;</span> <span style='color:#008080;font-size:0.9500000000000001em;white-space: normal;font-family:verdana;display: inline-block;line-height:30px'>up&nbsp;</span> <span style='color:#B18904;font-size:1.1em;white-space: normal;font-family:verdana;display: inline-block;line-height:30px'>don&nbsp;</span> <span style='color:#b82c2c;font-size:1.25em;white-space: normal;font-family:verdana;display: inline-block;line-height:30px'>of&nbsp;</span> <span style='color:#bc72d0;font-size:3.4999999999999987em;white-space: normal;font-family:verdana;display: inline-block;line-height:30px'>you&nbsp;</span> <span style='color:#B18904;font-size:1.1em;white-space: normal;font-family:verdana;display: inline-block;line-height:30px'>now&nbsp;</span> <span style='color:#FF0080;font-size:2.1499999999999995em;white-space: normal;font-family:verdana;display: inline-block;line-height:30px'>me&nbsp;</span> <span style='color:#B18904;font-size:1.1em;white-space: normal;font-family:verdana;display: inline-block;line-height:30px'>all&nbsp;</span> <span style='color:#b82c2c;font-size:1.25em;white-space: normal;font-family:verdana;display: inline-block;line-height:30px'>with&nbsp;</span> <span style='color:#00b4ff;font-size:1.4em;white-space: normal;font-family:verdana;display: inline-block;line-height:30px'>love&nbsp;</span> <span style='color:#FF0080;font-size:2.1499999999999995em;white-space: normal;font-family:verdana;display: inline-block;line-height:30px'>my&nbsp;</span></div></div>"
      ],
      "text/plain": [
       "<IPython.core.display.HTML object>"
      ]
     },
     "execution_count": 27,
     "metadata": {},
     "output_type": "execute_result"
    }
   ],
   "source": [
    "\n",
    "\n",
    "# initialize WordCloud\n",
    "wc=WordCloud()\n",
    "\n",
    "# get html code\n",
    "embed_code=wc.get_embed_code(text=all_lyrics,random_color=True,topn=40)\n",
    "\n",
    "# display\n",
    "HTML(embed_code)\n",
    "\n"
   ]
  },
  {
   "cell_type": "code",
   "execution_count": 28,
   "id": "turkish-entrepreneur",
   "metadata": {},
   "outputs": [],
   "source": [
    "import re\n",
    "clean_all_lyrics = []\n",
    "for lyric in all_lyrics:\n",
    "    entry = re.sub(\"\\[.*?\\]\",\"\",lyric)\n",
    "    clean_all_lyrics.append(entry)"
   ]
  },
  {
   "cell_type": "code",
   "execution_count": 29,
   "id": "prostate-optimum",
   "metadata": {},
   "outputs": [
    {
     "data": {
      "text/html": [
       "<div align='center' style='width:100%'><div align='center' style='text-align:justify; border-radius: 25px;background: #fff7f7;overflow: auto; width:500px !important; padding:20px; '; text-align: center; word-wrap: break-word;> <span style='color:#CE22E6;font-size:1.4em;white-space: normal;font-family:verdana;display: inline-block;line-height:30px'>on&nbsp;</span> <span style='color:#008080;font-size:1.1em;white-space: normal;font-family:verdana;display: inline-block;line-height:30px'>like&nbsp;</span> <span style='color:#008080;font-size:1.1em;white-space: normal;font-family:verdana;display: inline-block;line-height:30px'>now&nbsp;</span> <span style='color:#2ECC71;font-size:1.25em;white-space: normal;font-family:verdana;display: inline-block;line-height:30px'>of&nbsp;</span> <span style='color:#3498DB;font-size:1.8499999999999996em;white-space: normal;font-family:verdana;display: inline-block;line-height:30px'>in&nbsp;</span> <span style='color:#2ECC71;font-size:1.25em;white-space: normal;font-family:verdana;display: inline-block;line-height:30px'>your&nbsp;</span> <span style='color:#CE22E6;font-size:1.4em;white-space: normal;font-family:verdana;display: inline-block;line-height:30px'>love&nbsp;</span> <span style='color:#B18904;font-size:1.6999999999999997em;white-space: normal;font-family:verdana;display: inline-block;line-height:30px'>it&nbsp;</span> <span style='color:#008080;font-size:1.1em;white-space: normal;font-family:verdana;display: inline-block;line-height:30px'>all&nbsp;</span> <span style='color:#003366;font-size:2.599999999999999em;white-space: normal;font-family:verdana;display: inline-block;line-height:30px'>and&nbsp;</span> <span style='color:#008080;font-size:1.1em;white-space: normal;font-family:verdana;display: inline-block;line-height:30px'>but&nbsp;</span> <span style='color:#CE22E6;font-size:1.4em;white-space: normal;font-family:verdana;display: inline-block;line-height:30px'>that&nbsp;</span> <span style='color:#2ECC71;font-size:1.25em;white-space: normal;font-family:verdana;display: inline-block;line-height:30px'>be&nbsp;</span> <span style='color:#ACB02E;font-size:3.199999999999999em;white-space: normal;font-family:verdana;display: inline-block;line-height:30px'>the&nbsp;</span> <span style='color:#008080;font-size:1.1em;white-space: normal;font-family:verdana;display: inline-block;line-height:30px'>for&nbsp;</span> <span style='color:#FF0080;font-size:2.1499999999999995em;white-space: normal;font-family:verdana;display: inline-block;line-height:30px'>me&nbsp;</span> <span style='color:#8000FF;font-size:3.4999999999999987em;white-space: normal;font-family:verdana;display: inline-block;line-height:30px'>you&nbsp;</span> <span style='color:#008080;font-size:1.1em;white-space: normal;font-family:verdana;display: inline-block;line-height:30px'>don&nbsp;</span> <span style='color:#008080;font-size:1.1em;white-space: normal;font-family:verdana;display: inline-block;line-height:30px'>need&nbsp;</span> <span style='color:#2ECC71;font-size:1.25em;white-space: normal;font-family:verdana;display: inline-block;line-height:30px'>with&nbsp;</span> <span style='color:#CE22E6;font-size:1.4em;white-space: normal;font-family:verdana;display: inline-block;line-height:30px'>we&nbsp;</span> <span style='color:#008080;font-size:1.1em;white-space: normal;font-family:verdana;display: inline-block;line-height:30px'>know&nbsp;</span> <span style='color:#FF0080;font-size:2.1499999999999995em;white-space: normal;font-family:verdana;display: inline-block;line-height:30px'>to&nbsp;</span> <span style='color:#FF0080;font-size:2.1499999999999995em;white-space: normal;font-family:verdana;display: inline-block;line-height:30px'>my&nbsp;</span></div></div>"
      ],
      "text/plain": [
       "<IPython.core.display.HTML object>"
      ]
     },
     "execution_count": 29,
     "metadata": {},
     "output_type": "execute_result"
    }
   ],
   "source": [
    "\n",
    "\n",
    "# get html code\n",
    "embed_code=wc.get_embed_code(text=clean_all_lyrics,random_color=True,topn=24)\n",
    "\n",
    "# display\n",
    "HTML(embed_code)\n",
    "\n"
   ]
  },
  {
   "cell_type": "code",
   "execution_count": 30,
   "id": "mineral-contents",
   "metadata": {},
   "outputs": [
    {
     "name": "stdout",
     "output_type": "stream",
     "text": [
      "111088\n",
      "111\n"
     ]
    }
   ],
   "source": [
    "total_word_count = 0\n",
    "for clean_lyric in clean_all_lyrics:\n",
    "    split_string = clean_lyric.split()\n",
    "    #print(split_string)\n",
    "    word_count = len(split_string)\n",
    "    #print(word_count)\n",
    "    total_word_count += word_count\n",
    "print(total_word_count)\n",
    "word_cloud_topn = int(np.floor(total_word_count * 0.001))\n",
    "print(word_cloud_topn)"
   ]
  },
  {
   "cell_type": "code",
   "execution_count": 31,
   "id": "subject-sample",
   "metadata": {},
   "outputs": [
    {
     "data": {
      "text/html": [
       "<div align='center' style='width:100%'><div align='center' style='text-align:justify; border-radius: 25px;background: #fff7f7;overflow: auto; width:500px !important; padding:20px; '; text-align: center; word-wrap: break-word;> <span style='color:#725394;font-size:0.8em;white-space: normal;font-family:verdana;display: inline-block;line-height:30px'>dont&nbsp;</span> <span style='color:#725394;font-size:0.8em;white-space: normal;font-family:verdana;display: inline-block;line-height:30px'>not&nbsp;</span> <span style='color:#3498DB;font-size:0.65em;white-space: normal;font-family:verdana;display: inline-block;line-height:30px'>mind&nbsp;</span> <span style='color:#6C22E6;font-size:3.4999999999999987em;white-space: normal;font-family:verdana;display: inline-block;line-height:30px'>you&nbsp;</span> <span style='color:#3498DB;font-size:0.65em;white-space: normal;font-family:verdana;display: inline-block;line-height:30px'>give&nbsp;</span> <span style='color:#00b4ff;font-size:1.1em;white-space: normal;font-family:verdana;display: inline-block;line-height:30px'>for&nbsp;</span> <span style='color:#725394;font-size:0.8em;white-space: normal;font-family:verdana;display: inline-block;line-height:30px'>get&nbsp;</span> <span style='color:#725394;font-size:0.8em;white-space: normal;font-family:verdana;display: inline-block;line-height:30px'>will&nbsp;</span> <span style='color:#725394;font-size:0.8em;white-space: normal;font-family:verdana;display: inline-block;line-height:30px'>way&nbsp;</span> <span style='color:#3498DB;font-size:0.65em;white-space: normal;font-family:verdana;display: inline-block;line-height:30px'>again&nbsp;</span> <span style='color:#3498DB;font-size:0.65em;white-space: normal;font-family:verdana;display: inline-block;line-height:30px'>hey&nbsp;</span> <span style='color:#CE22E6;font-size:0.9500000000000001em;white-space: normal;font-family:verdana;display: inline-block;line-height:30px'>oh&nbsp;</span> <span style='color:#3498DB;font-size:0.65em;white-space: normal;font-family:verdana;display: inline-block;line-height:30px'>hold&nbsp;</span> <span style='color:#CE22E6;font-size:0.9500000000000001em;white-space: normal;font-family:verdana;display: inline-block;line-height:30px'>just&nbsp;</span> <span style='color:#3498DB;font-size:0.65em;white-space: normal;font-family:verdana;display: inline-block;line-height:30px'>have&nbsp;</span> <span style='color:#725394;font-size:0.8em;white-space: normal;font-family:verdana;display: inline-block;line-height:30px'>sheeran&nbsp;</span> <span style='color:#725394;font-size:0.8em;white-space: normal;font-family:verdana;display: inline-block;line-height:30px'>make&nbsp;</span> <span style='color:#3498DB;font-size:0.65em;white-space: normal;font-family:verdana;display: inline-block;line-height:30px'>as&nbsp;</span> <span style='color:#725394;font-size:0.8em;white-space: normal;font-family:verdana;display: inline-block;line-height:30px'>yeah&nbsp;</span> <span style='color:#3498DB;font-size:0.65em;white-space: normal;font-family:verdana;display: inline-block;line-height:30px'>life&nbsp;</span> <span style='color:#3498DB;font-size:0.65em;white-space: normal;font-family:verdana;display: inline-block;line-height:30px'>there&nbsp;</span> <span style='color:#003366;font-size:2.1499999999999995em;white-space: normal;font-family:verdana;display: inline-block;line-height:30px'>to&nbsp;</span> <span style='color:#725394;font-size:0.8em;white-space: normal;font-family:verdana;display: inline-block;line-height:30px'>back&nbsp;</span> <span style='color:#725394;font-size:0.8em;white-space: normal;font-family:verdana;display: inline-block;line-height:30px'>do&nbsp;</span> <span style='color:#FF5733;font-size:1.4em;white-space: normal;font-family:verdana;display: inline-block;line-height:30px'>love&nbsp;</span> <span style='color:#725394;font-size:0.8em;white-space: normal;font-family:verdana;display: inline-block;line-height:30px'>take&nbsp;</span> <span style='color:#CE22E6;font-size:0.9500000000000001em;white-space: normal;font-family:verdana;display: inline-block;line-height:30px'>when&nbsp;</span> <span style='color:#725394;font-size:0.8em;white-space: normal;font-family:verdana;display: inline-block;line-height:30px'>feel&nbsp;</span> <span style='color:#003366;font-size:2.1499999999999995em;white-space: normal;font-family:verdana;display: inline-block;line-height:30px'>my&nbsp;</span> <span style='color:#00b4ff;font-size:1.1em;white-space: normal;font-family:verdana;display: inline-block;line-height:30px'>but&nbsp;</span> <span style='color:#CE22E6;font-size:0.9500000000000001em;white-space: normal;font-family:verdana;display: inline-block;line-height:30px'>never&nbsp;</span> <span style='color:#3498DB;font-size:0.65em;white-space: normal;font-family:verdana;display: inline-block;line-height:30px'>things&nbsp;</span> <span style='color:#3498DB;font-size:0.65em;white-space: normal;font-family:verdana;display: inline-block;line-height:30px'>could&nbsp;</span> <span style='color:#725394;font-size:0.8em;white-space: normal;font-family:verdana;display: inline-block;line-height:30px'>was&nbsp;</span> <span style='color:#725394;font-size:0.8em;white-space: normal;font-family:verdana;display: inline-block;line-height:30px'>want&nbsp;</span> <span style='color:#725394;font-size:0.8em;white-space: normal;font-family:verdana;display: inline-block;line-height:30px'>what&nbsp;</span> <span style='color:#725394;font-size:0.8em;white-space: normal;font-family:verdana;display: inline-block;line-height:30px'>wanna&nbsp;</span> <span style='color:#DBA901;font-size:1.6999999999999997em;white-space: normal;font-family:verdana;display: inline-block;line-height:30px'>it&nbsp;</span> <span style='color:#CE22E6;font-size:0.9500000000000001em;white-space: normal;font-family:verdana;display: inline-block;line-height:30px'>this&nbsp;</span> <span style='color:#bc72d0;font-size:1.25em;white-space: normal;font-family:verdana;display: inline-block;line-height:30px'>be&nbsp;</span> <span style='color:#725394;font-size:0.8em;white-space: normal;font-family:verdana;display: inline-block;line-height:30px'>go&nbsp;</span> <span style='color:#CE22E6;font-size:0.9500000000000001em;white-space: normal;font-family:verdana;display: inline-block;line-height:30px'>are&nbsp;</span> <span style='color:#CE22E6;font-size:0.9500000000000001em;white-space: normal;font-family:verdana;display: inline-block;line-height:30px'>is&nbsp;</span> <span style='color:#3498DB;font-size:0.65em;white-space: normal;font-family:verdana;display: inline-block;line-height:30px'>how&nbsp;</span> <span style='color:#00b4ff;font-size:1.1em;white-space: normal;font-family:verdana;display: inline-block;line-height:30px'>now&nbsp;</span> <span style='color:#725394;font-size:0.8em;white-space: normal;font-family:verdana;display: inline-block;line-height:30px'>see&nbsp;</span> <span style='color:#003366;font-size:2.1499999999999995em;white-space: normal;font-family:verdana;display: inline-block;line-height:30px'>me&nbsp;</span> <span style='color:#725394;font-size:0.8em;white-space: normal;font-family:verdana;display: inline-block;line-height:30px'>cause&nbsp;</span> <span style='color:#3498DB;font-size:0.65em;white-space: normal;font-family:verdana;display: inline-block;line-height:30px'>by&nbsp;</span> <span style='color:#CE22E6;font-size:0.9500000000000001em;white-space: normal;font-family:verdana;display: inline-block;line-height:30px'>so&nbsp;</span> <span style='color:#FF5733;font-size:1.4em;white-space: normal;font-family:verdana;display: inline-block;line-height:30px'>on&nbsp;</span> <span style='color:#3498DB;font-size:0.65em;white-space: normal;font-family:verdana;display: inline-block;line-height:30px'>heart&nbsp;</span> <span style='color:#3498DB;font-size:0.65em;white-space: normal;font-family:verdana;display: inline-block;line-height:30px'>where&nbsp;</span> <span style='color:#725394;font-size:0.8em;white-space: normal;font-family:verdana;display: inline-block;line-height:30px'>got&nbsp;</span> <span style='color:#00b4ff;font-size:1.1em;white-space: normal;font-family:verdana;display: inline-block;line-height:30px'>need&nbsp;</span> <span style='color:#CE22E6;font-size:0.9500000000000001em;white-space: normal;font-family:verdana;display: inline-block;line-height:30px'>ll&nbsp;</span> <span style='color:#CE22E6;font-size:0.9500000000000001em;white-space: normal;font-family:verdana;display: inline-block;line-height:30px'>up&nbsp;</span> <span style='color:#3498DB;font-size:0.65em;white-space: normal;font-family:verdana;display: inline-block;line-height:30px'>pre&nbsp;</span> <span style='color:#bc72d0;font-size:1.25em;white-space: normal;font-family:verdana;display: inline-block;line-height:30px'>of&nbsp;</span> <span style='color:#a55571;font-size:3.199999999999999em;white-space: normal;font-family:verdana;display: inline-block;line-height:30px'>the&nbsp;</span> <span style='color:#725394;font-size:0.8em;white-space: normal;font-family:verdana;display: inline-block;line-height:30px'>eyes&nbsp;</span> <span style='color:#CE22E6;font-size:0.9500000000000001em;white-space: normal;font-family:verdana;display: inline-block;line-height:30px'>if&nbsp;</span> <span style='color:#725394;font-size:0.8em;white-space: normal;font-family:verdana;display: inline-block;line-height:30px'>ed&nbsp;</span> <span style='color:#3498DB;font-size:0.65em;white-space: normal;font-family:verdana;display: inline-block;line-height:30px'>still&nbsp;</span> <span style='color:#3498DB;font-size:0.65em;white-space: normal;font-family:verdana;display: inline-block;line-height:30px'>won&nbsp;</span> <span style='color:#3498DB;font-size:0.65em;white-space: normal;font-family:verdana;display: inline-block;line-height:30px'>only&nbsp;</span> <span style='color:#CE22E6;font-size:0.9500000000000001em;white-space: normal;font-family:verdana;display: inline-block;line-height:30px'>re&nbsp;</span> <span style='color:#725394;font-size:0.8em;white-space: normal;font-family:verdana;display: inline-block;line-height:30px'>her&nbsp;</span> <span style='color:#CE22E6;font-size:0.9500000000000001em;white-space: normal;font-family:verdana;display: inline-block;line-height:30px'>can&nbsp;</span> <span style='color:#3498DB;font-size:0.65em;white-space: normal;font-family:verdana;display: inline-block;line-height:30px'>tell&nbsp;</span> <span style='color:#00b4ff;font-size:1.1em;white-space: normal;font-family:verdana;display: inline-block;line-height:30px'>all&nbsp;</span> <span style='color:#3498DB;font-size:0.65em;white-space: normal;font-family:verdana;display: inline-block;line-height:30px'>drunk&nbsp;</span> <span style='color:#725394;font-size:0.8em;white-space: normal;font-family:verdana;display: inline-block;line-height:30px'>time&nbsp;</span> <span style='color:#725394;font-size:0.8em;white-space: normal;font-family:verdana;display: inline-block;line-height:30px'>let&nbsp;</span> <span style='color:#725394;font-size:0.8em;white-space: normal;font-family:verdana;display: inline-block;line-height:30px'>home&nbsp;</span> <span style='color:#3498DB;font-size:0.65em;white-space: normal;font-family:verdana;display: inline-block;line-height:30px'>who&nbsp;</span> <span style='color:#FF5733;font-size:1.4em;white-space: normal;font-family:verdana;display: inline-block;line-height:30px'>that&nbsp;</span> <span style='color:#3498DB;font-size:0.65em;white-space: normal;font-family:verdana;display: inline-block;line-height:30px'>day&nbsp;</span> <span style='color:#3498DB;font-size:0.65em;white-space: normal;font-family:verdana;display: inline-block;line-height:30px'>keep&nbsp;</span> <span style='color:#725394;font-size:0.8em;white-space: normal;font-family:verdana;display: inline-block;line-height:30px'>been&nbsp;</span> <span style='color:#725394;font-size:0.8em;white-space: normal;font-family:verdana;display: inline-block;line-height:30px'>they&nbsp;</span> <span style='color:#725394;font-size:0.8em;white-space: normal;font-family:verdana;display: inline-block;line-height:30px'>down&nbsp;</span> <span style='color:#CE22E6;font-size:0.9500000000000001em;white-space: normal;font-family:verdana;display: inline-block;line-height:30px'>out&nbsp;</span> <span style='color:#725394;font-size:0.8em;white-space: normal;font-family:verdana;display: inline-block;line-height:30px'>then&nbsp;</span> <span style='color:#00b4ff;font-size:1.1em;white-space: normal;font-family:verdana;display: inline-block;line-height:30px'>like&nbsp;</span> <span style='color:#bc72d0;font-size:1.25em;white-space: normal;font-family:verdana;display: inline-block;line-height:30px'>your&nbsp;</span> <span style='color:#3498DB;font-size:0.65em;white-space: normal;font-family:verdana;display: inline-block;line-height:30px'>over&nbsp;</span> <span style='color:#3498DB;font-size:0.65em;white-space: normal;font-family:verdana;display: inline-block;line-height:30px'>too&nbsp;</span> <span style='color:#3498DB;font-size:0.65em;white-space: normal;font-family:verdana;display: inline-block;line-height:30px'>ain&nbsp;</span> <span style='color:#00b4ff;font-size:1.1em;white-space: normal;font-family:verdana;display: inline-block;line-height:30px'>don&nbsp;</span> <span style='color:#bc72d0;font-size:1.25em;white-space: normal;font-family:verdana;display: inline-block;line-height:30px'>with&nbsp;</span> <span style='color:#725394;font-size:0.8em;white-space: normal;font-family:verdana;display: inline-block;line-height:30px'>one&nbsp;</span> <span style='color:#725394;font-size:0.8em;white-space: normal;font-family:verdana;display: inline-block;line-height:30px'>from&nbsp;</span> <span style='color:#3498DB;font-size:0.65em;white-space: normal;font-family:verdana;display: inline-block;line-height:30px'>body&nbsp;</span> <span style='color:#725394;font-size:0.8em;white-space: normal;font-family:verdana;display: inline-block;line-height:30px'>at&nbsp;</span> <span style='color:#FF0080;font-size:1.8499999999999996em;white-space: normal;font-family:verdana;display: inline-block;line-height:30px'>in&nbsp;</span> <span style='color:#CE22E6;font-size:0.9500000000000001em;white-space: normal;font-family:verdana;display: inline-block;line-height:30px'>no&nbsp;</span> <span style='color:#725394;font-size:0.8em;white-space: normal;font-family:verdana;display: inline-block;line-height:30px'>say&nbsp;</span> <span style='color:#725394;font-size:0.8em;white-space: normal;font-family:verdana;display: inline-block;line-height:30px'>baby&nbsp;</span> <span style='color:#3498DB;font-size:0.65em;white-space: normal;font-family:verdana;display: inline-block;line-height:30px'>were&nbsp;</span> <span style='color:#725394;font-size:0.8em;white-space: normal;font-family:verdana;display: inline-block;line-height:30px'>ve&nbsp;</span> <span style='color:#5882FA;font-size:2.599999999999999em;white-space: normal;font-family:verdana;display: inline-block;line-height:30px'>and&nbsp;</span> <span style='color:#3498DB;font-size:0.65em;white-space: normal;font-family:verdana;display: inline-block;line-height:30px'>right&nbsp;</span> <span style='color:#00b4ff;font-size:1.1em;white-space: normal;font-family:verdana;display: inline-block;line-height:30px'>know&nbsp;</span> <span style='color:#CE22E6;font-size:0.9500000000000001em;white-space: normal;font-family:verdana;display: inline-block;line-height:30px'>man&nbsp;</span> <span style='color:#3498DB;font-size:0.65em;white-space: normal;font-family:verdana;display: inline-block;line-height:30px'>night&nbsp;</span> <span style='color:#FF5733;font-size:1.4em;white-space: normal;font-family:verdana;display: inline-block;line-height:30px'>we&nbsp;</span> <span style='color:#CE22E6;font-size:0.9500000000000001em;white-space: normal;font-family:verdana;display: inline-block;line-height:30px'>come&nbsp;</span> <span style='color:#3498DB;font-size:0.65em;white-space: normal;font-family:verdana;display: inline-block;line-height:30px'>here&nbsp;</span> <span style='color:#CE22E6;font-size:0.9500000000000001em;white-space: normal;font-family:verdana;display: inline-block;line-height:30px'>she&nbsp;</span> <span style='color:#3498DB;font-size:0.65em;white-space: normal;font-family:verdana;display: inline-block;line-height:30px'>should&nbsp;</span></div></div>"
      ],
      "text/plain": [
       "<IPython.core.display.HTML object>"
      ]
     },
     "execution_count": 31,
     "metadata": {},
     "output_type": "execute_result"
    }
   ],
   "source": [
    "\n",
    "\n",
    "# get html code\n",
    "embed_code=wc.get_embed_code(text=clean_all_lyrics,random_color=True,topn=word_cloud_topn)\n",
    "\n",
    "# display\n",
    "HTML(embed_code)\n",
    "\n"
   ]
  },
  {
   "cell_type": "code",
   "execution_count": 1,
   "id": "integral-pottery",
   "metadata": {},
   "outputs": [],
   "source": [
    "import numpy as np\n",
    "import pandas as pd\n",
    "import string\n",
    "import json"
   ]
  },
  {
   "cell_type": "code",
   "execution_count": 3,
   "id": "explicit-soviet",
   "metadata": {},
   "outputs": [],
   "source": [
    "with open('./app/json files/Lyrics_ArianaGrande.json') as f:\n",
    "    aux = json.load(f)"
   ]
  },
  {
   "cell_type": "code",
   "execution_count": 4,
   "id": "industrial-budapest",
   "metadata": {},
   "outputs": [
    {
     "name": "stdout",
     "output_type": "stream",
     "text": [
      "alternate_names\n",
      "api_path\n",
      "description\n",
      "facebook_name\n",
      "followers_count\n",
      "header_image_url\n",
      "id\n",
      "image_url\n",
      "instagram_name\n",
      "is_meme_verified\n",
      "is_verified\n",
      "name\n",
      "translation_artist\n",
      "twitter_name\n",
      "url\n",
      "current_user_metadata\n",
      "iq\n",
      "description_annotation\n",
      "user\n",
      "songs\n"
     ]
    }
   ],
   "source": [
    "for (k, v) in aux.items():\n",
    "    print(k)"
   ]
  },
  {
   "cell_type": "code",
   "execution_count": 5,
   "id": "killing-classics",
   "metadata": {},
   "outputs": [],
   "source": [
    "titles=[song['title'] for song in aux['songs']]\n",
    "lyrics=[song['lyrics'] for song in aux['songs']]\n",
    "rd=[song['release_date'] for song in aux['songs']]\n",
    "\n",
    "\n",
    "T=[]\n",
    "L=[]\n",
    "r=[]\n",
    "al=[]\n",
    "\n",
    "\n",
    "for i in range(0,308):\n",
    "    T.append(titles[i])\n",
    "    L.append(lyrics[i])\n",
    "    r.append(rd[i])\n",
    "\n",
    "df = pd.DataFrame()\n",
    "df['Titles']=T\n",
    "df['Lyrics']=L\n",
    "df['Release Date']=r"
   ]
  },
  {
   "cell_type": "code",
   "execution_count": 6,
   "id": "behavioral-grant",
   "metadata": {},
   "outputs": [
    {
     "data": {
      "text/html": [
       "<div>\n",
       "<style scoped>\n",
       "    .dataframe tbody tr th:only-of-type {\n",
       "        vertical-align: middle;\n",
       "    }\n",
       "\n",
       "    .dataframe tbody tr th {\n",
       "        vertical-align: top;\n",
       "    }\n",
       "\n",
       "    .dataframe thead th {\n",
       "        text-align: right;\n",
       "    }\n",
       "</style>\n",
       "<table border=\"1\" class=\"dataframe\">\n",
       "  <thead>\n",
       "    <tr style=\"text-align: right;\">\n",
       "      <th></th>\n",
       "      <th>Titles</th>\n",
       "      <th>Lyrics</th>\n",
       "      <th>Release Date</th>\n",
       "    </tr>\n",
       "  </thead>\n",
       "  <tbody>\n",
       "    <tr>\n",
       "      <th>0</th>\n",
       "      <td>​thank u, next</td>\n",
       "      <td>[Verse 1]\\nThought I'd end up with Sean\\nBut h...</td>\n",
       "      <td>2018-11-03</td>\n",
       "    </tr>\n",
       "    <tr>\n",
       "      <th>1</th>\n",
       "      <td>7 rings</td>\n",
       "      <td>[Verse 1]\\nYeah, breakfast at Tiffany's and bo...</td>\n",
       "      <td>2019-01-18</td>\n",
       "    </tr>\n",
       "    <tr>\n",
       "      <th>2</th>\n",
       "      <td>​God is a woman</td>\n",
       "      <td>[Chorus]\\nYou, you love it how I move you\\nYou...</td>\n",
       "      <td>2018-07-13</td>\n",
       "    </tr>\n",
       "    <tr>\n",
       "      <th>3</th>\n",
       "      <td>Side To Side</td>\n",
       "      <td>[Intro: Ariana Grande &amp; Nicki Minaj]\\nI've bee...</td>\n",
       "      <td>2016-05-20</td>\n",
       "    </tr>\n",
       "    <tr>\n",
       "      <th>4</th>\n",
       "      <td>​​no tears left to cry</td>\n",
       "      <td>[Intro]\\nRight now, I'm in a state of mind\\nI ...</td>\n",
       "      <td>2018-04-20</td>\n",
       "    </tr>\n",
       "  </tbody>\n",
       "</table>\n",
       "</div>"
      ],
      "text/plain": [
       "                   Titles                                             Lyrics  \\\n",
       "0          ​thank u, next  [Verse 1]\\nThought I'd end up with Sean\\nBut h...   \n",
       "1                 7 rings  [Verse 1]\\nYeah, breakfast at Tiffany's and bo...   \n",
       "2         ​God is a woman  [Chorus]\\nYou, you love it how I move you\\nYou...   \n",
       "3            Side To Side  [Intro: Ariana Grande & Nicki Minaj]\\nI've bee...   \n",
       "4  ​​no tears left to cry  [Intro]\\nRight now, I'm in a state of mind\\nI ...   \n",
       "\n",
       "  Release Date  \n",
       "0   2018-11-03  \n",
       "1   2019-01-18  \n",
       "2   2018-07-13  \n",
       "3   2016-05-20  \n",
       "4   2018-04-20  "
      ]
     },
     "execution_count": 6,
     "metadata": {},
     "output_type": "execute_result"
    }
   ],
   "source": [
    "df.head(5)"
   ]
  },
  {
   "cell_type": "code",
   "execution_count": 7,
   "id": "conscious-cattle",
   "metadata": {},
   "outputs": [
    {
     "data": {
      "text/html": [
       "<div>\n",
       "<style scoped>\n",
       "    .dataframe tbody tr th:only-of-type {\n",
       "        vertical-align: middle;\n",
       "    }\n",
       "\n",
       "    .dataframe tbody tr th {\n",
       "        vertical-align: top;\n",
       "    }\n",
       "\n",
       "    .dataframe thead th {\n",
       "        text-align: right;\n",
       "    }\n",
       "</style>\n",
       "<table border=\"1\" class=\"dataframe\">\n",
       "  <thead>\n",
       "    <tr style=\"text-align: right;\">\n",
       "      <th></th>\n",
       "      <th>Artist</th>\n",
       "      <th>Title</th>\n",
       "      <th>Album</th>\n",
       "      <th>Date</th>\n",
       "      <th>Lyric</th>\n",
       "      <th>Year</th>\n",
       "    </tr>\n",
       "  </thead>\n",
       "  <tbody>\n",
       "    <tr>\n",
       "      <th>0</th>\n",
       "      <td>Ariana Grande</td>\n",
       "      <td>​thank u, next</td>\n",
       "      <td>thank u, next</td>\n",
       "      <td>2018-11-03</td>\n",
       "      <td>thought i'd end up with sean but he wasn't a m...</td>\n",
       "      <td>2018</td>\n",
       "    </tr>\n",
       "    <tr>\n",
       "      <th>1</th>\n",
       "      <td>Ariana Grande</td>\n",
       "      <td>7 rings</td>\n",
       "      <td>thank u, next</td>\n",
       "      <td>2019-01-18</td>\n",
       "      <td>yeah breakfast at tiffany's and bottles of bub...</td>\n",
       "      <td>2019</td>\n",
       "    </tr>\n",
       "    <tr>\n",
       "      <th>2</th>\n",
       "      <td>Ariana Grande</td>\n",
       "      <td>​God is a woman</td>\n",
       "      <td>Sweetener</td>\n",
       "      <td>2018-07-13</td>\n",
       "      <td>you you love it how i move you you love it how...</td>\n",
       "      <td>2018</td>\n",
       "    </tr>\n",
       "    <tr>\n",
       "      <th>3</th>\n",
       "      <td>Ariana Grande</td>\n",
       "      <td>Side To Side</td>\n",
       "      <td>Dangerous Woman</td>\n",
       "      <td>2016-05-20</td>\n",
       "      <td>ariana grande  nicki minaj i've been here all ...</td>\n",
       "      <td>2016</td>\n",
       "    </tr>\n",
       "    <tr>\n",
       "      <th>4</th>\n",
       "      <td>Ariana Grande</td>\n",
       "      <td>​​no tears left to cry</td>\n",
       "      <td>Sweetener</td>\n",
       "      <td>2018-04-20</td>\n",
       "      <td>right now i'm in a state of mind i wanna be in...</td>\n",
       "      <td>2018</td>\n",
       "    </tr>\n",
       "  </tbody>\n",
       "</table>\n",
       "</div>"
      ],
      "text/plain": [
       "          Artist                   Title            Album        Date  \\\n",
       "0  Ariana Grande          ​thank u, next    thank u, next  2018-11-03   \n",
       "1  Ariana Grande                 7 rings    thank u, next  2019-01-18   \n",
       "2  Ariana Grande         ​God is a woman        Sweetener  2018-07-13   \n",
       "3  Ariana Grande            Side To Side  Dangerous Woman  2016-05-20   \n",
       "4  Ariana Grande  ​​no tears left to cry        Sweetener  2018-04-20   \n",
       "\n",
       "                                               Lyric  Year  \n",
       "0  thought i'd end up with sean but he wasn't a m...  2018  \n",
       "1  yeah breakfast at tiffany's and bottles of bub...  2019  \n",
       "2  you you love it how i move you you love it how...  2018  \n",
       "3  ariana grande  nicki minaj i've been here all ...  2016  \n",
       "4  right now i'm in a state of mind i wanna be in...  2018  "
      ]
     },
     "execution_count": 7,
     "metadata": {},
     "output_type": "execute_result"
    }
   ],
   "source": [
    "dfa=pd.read_csv('./app/csv/ArianaGrande.csv')\n",
    "dfa.head(5)"
   ]
  },
  {
   "cell_type": "code",
   "execution_count": 8,
   "id": "visible-source",
   "metadata": {},
   "outputs": [],
   "source": [
    "dfa=dfa.rename(str.lower, axis='columns')"
   ]
  },
  {
   "cell_type": "code",
   "execution_count": 10,
   "id": "improved-boutique",
   "metadata": {},
   "outputs": [],
   "source": [
    "def create_decades(df):\n",
    "    y=[]\n",
    "    value=0\n",
    "    x=1111\n",
    "    years = []\n",
    "    decades = []\n",
    "    df['date'].fillna(0)\n",
    "    df['date'] = df['date'].astype(\"str\")\n",
    "    for i in df.index:\n",
    "        years.append(df['date'].str.split(\"-\")[i][0])\n",
    "  \n",
    "    for year in df['year']:\n",
    "        if year == 'None':\n",
    "            y.append(x)\n",
    "        elif year == 'nan':\n",
    "            y.append(x)  \n",
    "        else:\n",
    "            value=int(year)\n",
    "            y.append(value)\n",
    "\n",
    "  \n",
    "    for x in y:\n",
    "        if x == 1111:\n",
    "            decades.append(\"None\")\n",
    "        elif 1970 <= x < 1980:\n",
    "            decades.append(\"70s\")\n",
    "        elif 1980 <= x < 1990:\n",
    "            decades.append(\"80s\")\n",
    "        elif 1990 <= x < 2000:\n",
    "            decades.append(\"90s\")\n",
    "        elif 2000 <= x < 2010:\n",
    "            decades.append(\"00s\")\n",
    "        elif 2010 <= x < 2020:\n",
    "            decades.append(\"10s\")\n",
    "        elif 2020 <= x < 2030:\n",
    "            decades.append(\"20s\")\n",
    "    \n",
    "  \n",
    "    df['decade'] = decades\n",
    "    df = df[['artist','title','album','decade','year','date','lyric']]\n",
    "    return df "
   ]
  },
  {
   "cell_type": "code",
   "execution_count": 11,
   "id": "short-municipality",
   "metadata": {},
   "outputs": [],
   "source": [
    "def cleaning(df):\n",
    "    a=[]\n",
    "    i=0\n",
    "    df1=df\n",
    "    title = df['title']\n",
    "    for t in df['title']:\n",
    "        r=Re=l=Li=c=m=V=ve=D=rs=0\n",
    "        r=t.find('remix')\n",
    "        Re=t.find('Remix')\n",
    "        l=t.find('live')\n",
    "        Li=t.find('Live')\n",
    "        V=t.find('Version')\n",
    "        ve=t.find('version')\n",
    "        D=t.find('Demo ')\n",
    "        D=t.find('Demo')\n",
    "        rs=t.find('Reprise')\n",
    "        c=t.find('COPY')\n",
    "        m=t.find('Mix')\n",
    "        if r != -1:\n",
    "            a.append(t)\n",
    "        elif Re != -1:\n",
    "            a.append(t)\n",
    "        elif l != -1:\n",
    "            a.append(t)\n",
    "        elif Li != -1:\n",
    "            a.append(t)\n",
    "        elif V != -1:\n",
    "            a.append(t)\n",
    "        elif ve != -1:\n",
    "            a.append(t)\n",
    "        elif D != -1:\n",
    "            a.append(t)\n",
    "        elif rs != -1:\n",
    "            a.append(t)\n",
    "        elif c != -1:\n",
    "            a.append(t)\n",
    "        elif m != -1:\n",
    "            a.append(t)\n",
    "    \n",
    "    for t1 in df['title']:\n",
    "        for t2 in a:\n",
    "            if t1 == t2:\n",
    "                df1=df1.drop(i)\n",
    "        i=i+1\n",
    "    \n",
    "    df1.dropna(subset = [\"title\"], inplace=True)\n",
    "    df1.dropna(subset = [\"lyric\"], inplace=True)\n",
    "    df1.drop_duplicates(subset =\"title\",keep = False, inplace = True)\n",
    "    df1.drop_duplicates(subset =\"lyric\",keep = False, inplace = True)    \n",
    "    \n",
    "    return df1"
   ]
  },
  {
   "cell_type": "code",
   "execution_count": 13,
   "id": "modern-elder",
   "metadata": {},
   "outputs": [
    {
     "data": {
      "text/html": [
       "<div>\n",
       "<style scoped>\n",
       "    .dataframe tbody tr th:only-of-type {\n",
       "        vertical-align: middle;\n",
       "    }\n",
       "\n",
       "    .dataframe tbody tr th {\n",
       "        vertical-align: top;\n",
       "    }\n",
       "\n",
       "    .dataframe thead th {\n",
       "        text-align: right;\n",
       "    }\n",
       "</style>\n",
       "<table border=\"1\" class=\"dataframe\">\n",
       "  <thead>\n",
       "    <tr style=\"text-align: right;\">\n",
       "      <th></th>\n",
       "      <th>artist</th>\n",
       "      <th>title</th>\n",
       "      <th>album</th>\n",
       "      <th>decade</th>\n",
       "      <th>year</th>\n",
       "      <th>date</th>\n",
       "      <th>lyric</th>\n",
       "    </tr>\n",
       "  </thead>\n",
       "  <tbody>\n",
       "    <tr>\n",
       "      <th>0</th>\n",
       "      <td>Ariana Grande</td>\n",
       "      <td>​thank u, next</td>\n",
       "      <td>thank u, next</td>\n",
       "      <td>10s</td>\n",
       "      <td>2018</td>\n",
       "      <td>2018-11-03</td>\n",
       "      <td>thought i'd end up with sean but he wasn't a m...</td>\n",
       "    </tr>\n",
       "    <tr>\n",
       "      <th>1</th>\n",
       "      <td>Ariana Grande</td>\n",
       "      <td>7 rings</td>\n",
       "      <td>thank u, next</td>\n",
       "      <td>10s</td>\n",
       "      <td>2019</td>\n",
       "      <td>2019-01-18</td>\n",
       "      <td>yeah breakfast at tiffany's and bottles of bub...</td>\n",
       "    </tr>\n",
       "    <tr>\n",
       "      <th>2</th>\n",
       "      <td>Ariana Grande</td>\n",
       "      <td>​God is a woman</td>\n",
       "      <td>Sweetener</td>\n",
       "      <td>10s</td>\n",
       "      <td>2018</td>\n",
       "      <td>2018-07-13</td>\n",
       "      <td>you you love it how i move you you love it how...</td>\n",
       "    </tr>\n",
       "    <tr>\n",
       "      <th>3</th>\n",
       "      <td>Ariana Grande</td>\n",
       "      <td>Side To Side</td>\n",
       "      <td>Dangerous Woman</td>\n",
       "      <td>10s</td>\n",
       "      <td>2016</td>\n",
       "      <td>2016-05-20</td>\n",
       "      <td>ariana grande  nicki minaj i've been here all ...</td>\n",
       "    </tr>\n",
       "    <tr>\n",
       "      <th>4</th>\n",
       "      <td>Ariana Grande</td>\n",
       "      <td>​​no tears left to cry</td>\n",
       "      <td>Sweetener</td>\n",
       "      <td>10s</td>\n",
       "      <td>2018</td>\n",
       "      <td>2018-04-20</td>\n",
       "      <td>right now i'm in a state of mind i wanna be in...</td>\n",
       "    </tr>\n",
       "  </tbody>\n",
       "</table>\n",
       "</div>"
      ],
      "text/plain": [
       "          artist                   title            album decade  year  \\\n",
       "0  Ariana Grande          ​thank u, next    thank u, next    10s  2018   \n",
       "1  Ariana Grande                 7 rings    thank u, next    10s  2019   \n",
       "2  Ariana Grande         ​God is a woman        Sweetener    10s  2018   \n",
       "3  Ariana Grande            Side To Side  Dangerous Woman    10s  2016   \n",
       "4  Ariana Grande  ​​no tears left to cry        Sweetener    10s  2018   \n",
       "\n",
       "         date                                              lyric  \n",
       "0  2018-11-03  thought i'd end up with sean but he wasn't a m...  \n",
       "1  2019-01-18  yeah breakfast at tiffany's and bottles of bub...  \n",
       "2  2018-07-13  you you love it how i move you you love it how...  \n",
       "3  2016-05-20  ariana grande  nicki minaj i've been here all ...  \n",
       "4  2018-04-20  right now i'm in a state of mind i wanna be in...  "
      ]
     },
     "execution_count": 13,
     "metadata": {},
     "output_type": "execute_result"
    }
   ],
   "source": [
    "dfa=create_decades(dfa)\n",
    "dfa.head(5)"
   ]
  },
  {
   "cell_type": "code",
   "execution_count": 14,
   "id": "fifty-secret",
   "metadata": {},
   "outputs": [
    {
     "data": {
      "text/plain": [
       "(308, 7)"
      ]
     },
     "execution_count": 14,
     "metadata": {},
     "output_type": "execute_result"
    }
   ],
   "source": [
    "dfa.shape"
   ]
  },
  {
   "cell_type": "code",
   "execution_count": 15,
   "id": "basic-positive",
   "metadata": {},
   "outputs": [
    {
     "data": {
      "text/html": [
       "<div>\n",
       "<style scoped>\n",
       "    .dataframe tbody tr th:only-of-type {\n",
       "        vertical-align: middle;\n",
       "    }\n",
       "\n",
       "    .dataframe tbody tr th {\n",
       "        vertical-align: top;\n",
       "    }\n",
       "\n",
       "    .dataframe thead th {\n",
       "        text-align: right;\n",
       "    }\n",
       "</style>\n",
       "<table border=\"1\" class=\"dataframe\">\n",
       "  <thead>\n",
       "    <tr style=\"text-align: right;\">\n",
       "      <th></th>\n",
       "      <th>artist</th>\n",
       "      <th>title</th>\n",
       "      <th>album</th>\n",
       "      <th>decade</th>\n",
       "      <th>year</th>\n",
       "      <th>date</th>\n",
       "      <th>lyric</th>\n",
       "    </tr>\n",
       "  </thead>\n",
       "  <tbody>\n",
       "    <tr>\n",
       "      <th>0</th>\n",
       "      <td>Ariana Grande</td>\n",
       "      <td>​thank u, next</td>\n",
       "      <td>thank u, next</td>\n",
       "      <td>10s</td>\n",
       "      <td>2018</td>\n",
       "      <td>2018-11-03</td>\n",
       "      <td>thought i'd end up with sean but he wasn't a m...</td>\n",
       "    </tr>\n",
       "    <tr>\n",
       "      <th>1</th>\n",
       "      <td>Ariana Grande</td>\n",
       "      <td>7 rings</td>\n",
       "      <td>thank u, next</td>\n",
       "      <td>10s</td>\n",
       "      <td>2019</td>\n",
       "      <td>2019-01-18</td>\n",
       "      <td>yeah breakfast at tiffany's and bottles of bub...</td>\n",
       "    </tr>\n",
       "    <tr>\n",
       "      <th>2</th>\n",
       "      <td>Ariana Grande</td>\n",
       "      <td>​God is a woman</td>\n",
       "      <td>Sweetener</td>\n",
       "      <td>10s</td>\n",
       "      <td>2018</td>\n",
       "      <td>2018-07-13</td>\n",
       "      <td>you you love it how i move you you love it how...</td>\n",
       "    </tr>\n",
       "    <tr>\n",
       "      <th>3</th>\n",
       "      <td>Ariana Grande</td>\n",
       "      <td>Side To Side</td>\n",
       "      <td>Dangerous Woman</td>\n",
       "      <td>10s</td>\n",
       "      <td>2016</td>\n",
       "      <td>2016-05-20</td>\n",
       "      <td>ariana grande  nicki minaj i've been here all ...</td>\n",
       "    </tr>\n",
       "    <tr>\n",
       "      <th>4</th>\n",
       "      <td>Ariana Grande</td>\n",
       "      <td>​​no tears left to cry</td>\n",
       "      <td>Sweetener</td>\n",
       "      <td>10s</td>\n",
       "      <td>2018</td>\n",
       "      <td>2018-04-20</td>\n",
       "      <td>right now i'm in a state of mind i wanna be in...</td>\n",
       "    </tr>\n",
       "  </tbody>\n",
       "</table>\n",
       "</div>"
      ],
      "text/plain": [
       "          artist                   title            album decade  year  \\\n",
       "0  Ariana Grande          ​thank u, next    thank u, next    10s  2018   \n",
       "1  Ariana Grande                 7 rings    thank u, next    10s  2019   \n",
       "2  Ariana Grande         ​God is a woman        Sweetener    10s  2018   \n",
       "3  Ariana Grande            Side To Side  Dangerous Woman    10s  2016   \n",
       "4  Ariana Grande  ​​no tears left to cry        Sweetener    10s  2018   \n",
       "\n",
       "         date                                              lyric  \n",
       "0  2018-11-03  thought i'd end up with sean but he wasn't a m...  \n",
       "1  2019-01-18  yeah breakfast at tiffany's and bottles of bub...  \n",
       "2  2018-07-13  you you love it how i move you you love it how...  \n",
       "3  2016-05-20  ariana grande  nicki minaj i've been here all ...  \n",
       "4  2018-04-20  right now i'm in a state of mind i wanna be in...  "
      ]
     },
     "execution_count": 15,
     "metadata": {},
     "output_type": "execute_result"
    }
   ],
   "source": [
    "df_clean=cleaning(dfa)\n",
    "df_clean.head(5)"
   ]
  },
  {
   "cell_type": "code",
   "execution_count": 16,
   "id": "requested-firewall",
   "metadata": {},
   "outputs": [
    {
     "data": {
      "text/plain": [
       "(202, 7)"
      ]
     },
     "execution_count": 16,
     "metadata": {},
     "output_type": "execute_result"
    }
   ],
   "source": [
    "df_clean.shape"
   ]
  },
  {
   "cell_type": "code",
   "execution_count": null,
   "id": "genetic-volleyball",
   "metadata": {},
   "outputs": [],
   "source": []
  }
 ],
 "metadata": {
  "kernelspec": {
   "display_name": "Python 3",
   "language": "python",
   "name": "python3"
  },
  "language_info": {
   "codemirror_mode": {
    "name": "ipython",
    "version": 3
   },
   "file_extension": ".py",
   "mimetype": "text/x-python",
   "name": "python",
   "nbconvert_exporter": "python",
   "pygments_lexer": "ipython3",
   "version": "3.7.10"
  }
 },
 "nbformat": 4,
 "nbformat_minor": 5
}
